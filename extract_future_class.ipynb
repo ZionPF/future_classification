{
 "cells": [
  {
   "cell_type": "code",
   "execution_count": 1,
   "metadata": {},
   "outputs": [
    {
     "name": "stderr",
     "output_type": "stream",
     "text": [
      "Building prefix dict from the default dictionary ...\n",
      "Loading model from cache /tmp/jieba.cache\n",
      "Loading model cost 1.249 seconds.\n",
      "Prefix dict has been built succesfully.\n"
     ]
    },
    {
     "name": "stdout",
     "output_type": "stream",
     "text": [
      "分词结果：\n",
      "['历史', '数据', '历史数据', '黄金', '债券', '收益', '收益率', '之间', '相关', '负相关', '关系', '债券', '收益', '收益率', '走高', '打压', '金价', '年期', '10年期', '美国', '国债', '收益', '收益率', '低迷', '黄金', '支撑', 'Spivak', '指出', '技术', '面', '技术', '面', '动能', '指标', '黄金', '迎来', '反弹', '含硫', '原油', '中质含硫原油', '密度', '粘度', '凝固', '凝固点', '胶质', '沥青', '胶质和沥青质', '含量', '硫含量', '含量', '蜡含量', '析蜡点', '含量', '水含量']\n",
      "totally cost 1ms\n",
      "期货类别：\n",
      "黄金,10年期国债期货,10年期国债期货,5年期国债期货,黄金,黄金,燃料油,中质含硫原油,聚丙烯,线型低密度聚乙烯,中质含硫原油,中质含硫原油,中质含硫原油,中质含硫原油,石油沥青,中质含硫原油,中质含硫原油,中质含硫原油,中质含硫原油,中质含硫原油,中质含硫原油\n"
     ]
    }
   ],
   "source": [
    "import time\n",
    "\n",
    "import word_segmentation\n",
    "\n",
    "def load_future():\n",
    "    \"\"\"\n",
    "      加载数据库里的期货关键字和种类对应字典\n",
    "      dict_future({关键字：期货种类})\n",
    "    \"\"\"\n",
    "\n",
    "    data_path = '../data/future_list.txt'\n",
    "\n",
    "    dict_future = {}\n",
    "\n",
    "    with open(data_path, 'r', encoding='utf-8') as data:\n",
    "        for line in data.readlines():\n",
    "            str_line = line.replace('\\t', '').replace('\\n', '').replace('\\r', '').replace(' ', '')\n",
    "            list_future_key = str_line.split('、')\n",
    "            for word in list(set(str_line.split('、'))):\n",
    "                if word not in dict_future:\n",
    "                    dict_future[word] = list_future_key[0]\n",
    "                else:\n",
    "                    dict_future[word] = dict_future[word] + ',' + list_future_key[0]\n",
    "\n",
    "\n",
    "    return dict_future\n",
    "\n",
    "class ExtractFuture(object):\n",
    "\n",
    "    def __init__(self):\n",
    "        self.__dict_future = load_future()\n",
    "\n",
    "    def extract_future(self, news_list):\n",
    "        \"\"\"\n",
    "        读取一条新闻的标题和正文，提取其中出现的期货关键词，将期货关键词转换成期货类别，最后返回所有的期货类别（有重复）\n",
    "        :param: 新闻的标题和正文分词结果（list）\n",
    "        :returns：包含的所有期货类别（string：code1,code2...）\n",
    "        \"\"\"\n",
    "\n",
    "        list_future = []  # 提取的期货类别列表\n",
    "\n",
    "        for word in news_list:\n",
    "            if word in self.__dict_future:\n",
    "                word = self.__dict_future[word]\n",
    "                list_future.append(word)\n",
    "                \n",
    "        str_future_list = ','.join(list_future)\n",
    "\n",
    "        return str_future_list\n",
    "\n",
    "\n",
    "# Extract_stocke_code test\n",
    "if __name__ == \"__main__\":\n",
    "    # 新推送的新闻\n",
    "    str_title_content = \"从历史数据来看，黄金和债券收益率之间的负相关关系是比较明显的，债券收益率的走高会打压金价。因此，10年期美国国债收益率的低迷对黄金将是一个支撑。另外，Spivak指出，从技术面来看，技术面动能指标表明了黄金即将迎来反弹。中质含硫原油密度粘度凝固点胶质和沥青质硫含量蜡含量析蜡点水含量\"\n",
    "\n",
    "    # 新闻分词\n",
    "    ws = word_segmentation.WordSegmentation()\n",
    "    news_list = ws.word_segmentation(str_title_content)\n",
    "\n",
    "    print(\"分词结果：\")\n",
    "    print(news_list)\n",
    "\n",
    "    time_start = time.time()\n",
    "\n",
    "    # 加载ExtractStockCode类\n",
    "    extract_future = ExtractFuture()\n",
    "\n",
    "    # 提取股票代码\n",
    "    str_future_list = extract_future.extract_future(news_list)\n",
    "\n",
    "    time_elapsed = time.time() - time_start\n",
    "    print('totally cost {:.0f}ms'.format(time_elapsed * 1000))\n",
    "\n",
    "    print(\"期货类别：\")\n",
    "    print(str_future_list)"
   ]
  },
  {
   "cell_type": "code",
   "execution_count": null,
   "metadata": {},
   "outputs": [],
   "source": []
  }
 ],
 "metadata": {
  "kernelspec": {
   "display_name": "Python 3",
   "language": "python",
   "name": "python3"
  },
  "language_info": {
   "codemirror_mode": {
    "name": "ipython",
    "version": 3
   },
   "file_extension": ".py",
   "mimetype": "text/x-python",
   "name": "python",
   "nbconvert_exporter": "python",
   "pygments_lexer": "ipython3",
   "version": "3.6.5"
  }
 },
 "nbformat": 4,
 "nbformat_minor": 2
}
