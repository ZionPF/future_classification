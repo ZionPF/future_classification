{
 "cells": [
  {
   "cell_type": "code",
   "execution_count": 1,
   "metadata": {},
   "outputs": [
    {
     "name": "stdout",
     "output_type": "stream",
     "text": [
      "load 1h news success\n",
      "tf-idf model has beens build successfully\n"
     ]
    }
   ],
   "source": [
    "import json\n",
    "from flask import Flask\n",
    "from flask import request\n",
    "import word_segmentation as ws\n",
    "import news_similarity as ns\n",
    "\n",
    "import extract_future_class as exf\n",
    "import future_label as fl\n",
    "\n",
    "\n",
    "WordSegmentation = ws.WordSegmentation()\n",
    "NewsSimilarity = ns.NewsSimilarity()\n",
    "ExtractFuture = exf.ExtractFuture()\n",
    "FutureLabel = fl.FutureLabel()\n",
    "\n",
    "app = Flask(__name__)\n",
    "Counter = 0\n",
    "\n",
    "@app.route('/')\n",
    "def hello_world():\n",
    "    return 'Hello World!'\n",
    "\n",
    "@app.route('/data/v1.0/getFutureLabels/', methods=['POST'])\n",
    "def getFutureLabels():\n",
    "    global Counter\n",
    "#     print(request.form['title'])\n",
    "#     print(request.form['content'])\n",
    "    str_time = request.form['time']\n",
    "    str_title = request.form['title']\n",
    "    str_content = request.form['content']\n",
    "    print(\"-------------\")\n",
    "    print(\"time:\",str_time)\n",
    "    print(\"title:\",str_title)\n",
    "    \n",
    "    # 分词\n",
    "    news_seg = WordSegmentation.word_segmentation(str_title + str_content)\n",
    "    content_seg = WordSegmentation.word_segmentation(str_content)\n",
    "    \n",
    "\n",
    "    # 去重\n",
    "    repeat = NewsSimilarity.news_similarity(content_seg)\n",
    "    Counter += 1\n",
    "    if Counter >= 100:\n",
    "        NewsSimilarity.delete_1h_news()\n",
    "        NewsSimilarity.tf_idf_model()\n",
    "        Counter = 0\n",
    "\n",
    "\n",
    "    # 提取期货关键词\n",
    "    future_keywords = ExtractFuture.extract_future(news_list)\n",
    "    \n",
    "    # 预测期货分类\n",
    "    label = FutureLabel.future_classification(news_list,str_future_list)\n",
    "    \n",
    "    dic_output = dict(repeat = repeat, plate = label)\n",
    "    json_output = json.dumps(dic_output)\n",
    "    return json_output\n",
    "    \n",
    "if __name__ == '__main__':\n",
    "    app.run(\"0.0.0.0\")\n"
   ]
  },
  {
   "cell_type": "code",
   "execution_count": null,
   "metadata": {},
   "outputs": [],
   "source": []
  }
 ],
 "metadata": {
  "kernelspec": {
   "display_name": "Python 3",
   "language": "python",
   "name": "python3"
  },
  "language_info": {
   "codemirror_mode": {
    "name": "ipython",
    "version": 3
   },
   "file_extension": ".py",
   "mimetype": "text/x-python",
   "name": "python",
   "nbconvert_exporter": "python",
   "pygments_lexer": "ipython3",
   "version": "3.6.5"
  }
 },
 "nbformat": 4,
 "nbformat_minor": 2
}
